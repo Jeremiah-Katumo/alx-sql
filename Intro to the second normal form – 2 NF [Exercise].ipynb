{
 "cells": [
  {
   "cell_type": "markdown",
   "id": "bf17eebd",
   "metadata": {},
   "source": [
    "<div align=\"right\" style=\" font-size: 80%; text-align: center; margin: 0 auto\">\n",
    "<img\n",
    " src=\"https://raw.githubusercontent.com/Explore-AI/Pictures/master/alx-courses/aice/assets/Content_page_banner_blue_dots.png\"\n",
    " alt=\"ALX Content Header\"\n",
    " class=\"full-width-image\"\n",
    "/>\n",
    "</div>"
   ]
  },
  {
   "cell_type": "markdown",
   "id": "f662d169",
   "metadata": {},
   "source": [
    "# Intro to the Second Normal Form – 2NF\n"
   ]
  },
  {
   "cell_type": "markdown",
   "id": "26af890c",
   "metadata": {},
   "source": [
    "In this train, we will learn how to normalise a database table into the Second Normal Form (2NF) by first ensuring that the table is in the First Normal Form (1NF) and then creating separate tables for related entities. We will also be introduced to the concept of a junction table. "
   ]
  },
  {
   "cell_type": "markdown",
   "id": "3259ef42",
   "metadata": {},
   "source": [
    "> ⚠️ This exercise extends the concepts introduced in the previous one, **Intro to the First Normal Form – 1NF**. Therefore, it's important to ensure that you continue using the modified `dam_levels.db` database after successfully completing the previous exercise.\n",
    " \n",
    "> ⚠️ Since the queries here will modify the database, you will have to get a fresh copy to redo the code cells."
   ]
  },
  {
   "cell_type": "markdown",
   "id": "2d230d14",
   "metadata": {
    "tags": []
   },
   "source": [
    "## Learning objectives\n",
    "\n",
    "By the end of this train, you should:\n",
    "- Understand the key principles of achieving Second Normal Form (2NF) in database normalisation.\n",
    "- Practise splitting a denormalised table into separate tables, addressing partial functional dependencies.\n",
    "- Master the concept of a junction table and its role in linking data between two related tables in a database schema."
   ]
  },
  {
   "cell_type": "markdown",
   "id": "2bf2a4c1",
   "metadata": {},
   "source": [
    "## 1. Overview\n",
    "To get the table in 2NF, we need to ensure the following:\n",
    "\n",
    "- The table is in 1NF.\n",
    "- All partial functional dependencies should be removed – all non-key columns should depend on the key column, and anything else should be placed in a separate table. "
   ]
  },
  {
   "cell_type": "markdown",
   "id": "37115144",
   "metadata": {},
   "source": [
    "<div>\n",
    "Let's look at normalising the 1NF dams database containing information about Cape Town dam water levels leading up to the 2018 Cape Town water crisis.\n",
    "</div>"
   ]
  },
  {
   "cell_type": "markdown",
   "id": "5a0b7683",
   "metadata": {
    "tags": []
   },
   "source": [
    "## Connecting to the database"
   ]
  },
  {
   "cell_type": "code",
   "execution_count": 1,
   "id": "0f34ea72",
   "metadata": {},
   "outputs": [],
   "source": [
    "# Load and activate the SQL extension to allow us to execute SQL in a Jupyter notebook. \n",
    "# If you get an error here, make sure that mysql and pymysql are installed correctly. \n",
    "\n",
    "%load_ext sql"
   ]
  },
  {
   "cell_type": "code",
   "execution_count": 9,
   "id": "d279a04d",
   "metadata": {},
   "outputs": [],
   "source": [
    "# Load SQLite database\n",
    "%sql sqlite:///dam_levels-a-3987.db"
   ]
  },
  {
   "cell_type": "code",
   "execution_count": 20,
   "id": "23058097-19ac-4dee-b263-2292a2c2ba7c",
   "metadata": {},
   "outputs": [
    {
     "name": "stdout",
     "output_type": "stream",
     "text": [
      " * sqlite:///dam_levels-a-3987.db\n",
      "   sqlite:///dam_levels.db\n",
      "Done.\n"
     ]
    },
    {
     "data": {
      "text/html": [
       "<table>\n",
       "    <thead>\n",
       "        <tr>\n",
       "            <th>name</th>\n",
       "            <th>type</th>\n",
       "        </tr>\n",
       "    </thead>\n",
       "    <tbody>\n",
       "        <tr>\n",
       "            <td>dam_levels</td>\n",
       "            <td>table</td>\n",
       "        </tr>\n",
       "        <tr>\n",
       "            <td>dam_levels_1nf</td>\n",
       "            <td>table</td>\n",
       "        </tr>\n",
       "        <tr>\n",
       "            <td>sqlite_sequence</td>\n",
       "            <td>table</td>\n",
       "        </tr>\n",
       "        <tr>\n",
       "            <td>assessments</td>\n",
       "            <td>table</td>\n",
       "        </tr>\n",
       "        <tr>\n",
       "            <td>dams</td>\n",
       "            <td>table</td>\n",
       "        </tr>\n",
       "        <tr>\n",
       "            <td>dam_assessments</td>\n",
       "            <td>table</td>\n",
       "        </tr>\n",
       "        <tr>\n",
       "            <td>water_level_assessments</td>\n",
       "            <td>table</td>\n",
       "        </tr>\n",
       "        <tr>\n",
       "            <td>officers</td>\n",
       "            <td>table</td>\n",
       "        </tr>\n",
       "    </tbody>\n",
       "</table>"
      ],
      "text/plain": [
       "[('dam_levels', 'table'),\n",
       " ('dam_levels_1nf', 'table'),\n",
       " ('sqlite_sequence', 'table'),\n",
       " ('assessments', 'table'),\n",
       " ('dams', 'table'),\n",
       " ('dam_assessments', 'table'),\n",
       " ('water_level_assessments', 'table'),\n",
       " ('officers', 'table')]"
      ]
     },
     "execution_count": 20,
     "metadata": {},
     "output_type": "execute_result"
    }
   ],
   "source": [
    "%%sql\n",
    "SELECT name, type \n",
    "FROM sqlite_master;"
   ]
  },
  {
   "cell_type": "code",
   "execution_count": 11,
   "id": "340cb5ed-a366-412f-870a-e0b6089df0c7",
   "metadata": {},
   "outputs": [
    {
     "name": "stdout",
     "output_type": "stream",
     "text": [
      " * sqlite:///dam_levels-a-3987.db\n",
      "   sqlite:///dam_levels.db\n",
      "Done.\n"
     ]
    },
    {
     "data": {
      "text/html": [
       "<table>\n",
       "    <thead>\n",
       "        <tr>\n",
       "            <th>name</th>\n",
       "        </tr>\n",
       "    </thead>\n",
       "    <tbody>\n",
       "        <tr>\n",
       "            <td>dam_levels</td>\n",
       "        </tr>\n",
       "    </tbody>\n",
       "</table>"
      ],
      "text/plain": [
       "[('dam_levels',)]"
      ]
     },
     "execution_count": 11,
     "metadata": {},
     "output_type": "execute_result"
    }
   ],
   "source": [
    "%sql SELECT name FROM sqlite_master WHERE type='table';"
   ]
  },
  {
   "cell_type": "markdown",
   "id": "1225c304",
   "metadata": {},
   "source": [
    "Before we proceed, let's first take a closer look at the `dam_levels_1nf` table:"
   ]
  },
  {
   "cell_type": "code",
   "execution_count": 13,
   "id": "b8edbc6a",
   "metadata": {},
   "outputs": [
    {
     "name": "stdout",
     "output_type": "stream",
     "text": [
      " * sqlite:///dam_levels-a-3987.db\n",
      "   sqlite:///dam_levels.db\n",
      "Done.\n"
     ]
    },
    {
     "data": {
      "text/html": [
       "<table>\n",
       "    <thead>\n",
       "        <tr>\n",
       "            <th>year</th>\n",
       "            <th>dam_name</th>\n",
       "            <th>Assessment_Officer</th>\n",
       "            <th>Officer_Reg</th>\n",
       "            <th>water_level</th>\n",
       "            <th>dam_latitude</th>\n",
       "            <th>dam_longitude</th>\n",
       "        </tr>\n",
       "    </thead>\n",
       "    <tbody>\n",
       "        <tr>\n",
       "            <td>2012</td>\n",
       "            <td>WEMMERSHOEK</td>\n",
       "            <td>P. M. Naidoo</td>\n",
       "            <td>201013</td>\n",
       "            <td>48.2</td>\n",
       "            <td>-33.826246</td>\n",
       "            <td>19.091828</td>\n",
       "        </tr>\n",
       "        <tr>\n",
       "            <td>2012</td>\n",
       "            <td>STEENBRAS LOWER;STEENBRAS UPPER</td>\n",
       "            <td>V. Mokere</td>\n",
       "            <td>201124</td>\n",
       "            <td>20.3;24.2</td>\n",
       "            <td>-34.180527;-34.166702</td>\n",
       "            <td>18.866688;18.90976</td>\n",
       "        </tr>\n",
       "        <tr>\n",
       "            <td>2012</td>\n",
       "            <td>VOËLVLEI</td>\n",
       "            <td>A. T. Sijovu</td>\n",
       "            <td>202256</td>\n",
       "            <td>15</td>\n",
       "            <td>-33.34178</td>\n",
       "            <td>19.04105</td>\n",
       "        </tr>\n",
       "        <tr>\n",
       "            <td>2012</td>\n",
       "            <td>HELY-HUTCHINSON</td>\n",
       "            <td>P. M. Naidoo</td>\n",
       "            <td>201013</td>\n",
       "            <td>14.2</td>\n",
       "            <td>-33.976929</td>\n",
       "            <td>18.409568</td>\n",
       "        </tr>\n",
       "        <tr>\n",
       "            <td>2012</td>\n",
       "            <td>WOODHEAD</td>\n",
       "            <td>A. T. Sijovu</td>\n",
       "            <td>202256</td>\n",
       "            <td>35.3</td>\n",
       "            <td>-33.977341</td>\n",
       "            <td>18.404046</td>\n",
       "        </tr>\n",
       "        <tr>\n",
       "            <td>2013</td>\n",
       "            <td>WEMMERSHOEK</td>\n",
       "            <td>P. M. Naidoo</td>\n",
       "            <td>201013</td>\n",
       "            <td>53.3</td>\n",
       "            <td>-33.826246</td>\n",
       "            <td>19.091828</td>\n",
       "        </tr>\n",
       "        <tr>\n",
       "            <td>2013</td>\n",
       "            <td>STEENBRAS LOWER;STEENBRAS UPPER</td>\n",
       "            <td>V. Mokere</td>\n",
       "            <td>201124</td>\n",
       "            <td>22.4;24.6</td>\n",
       "            <td>-34.180527;-34.166702</td>\n",
       "            <td>18.866688;18.90976</td>\n",
       "        </tr>\n",
       "        <tr>\n",
       "            <td>2013</td>\n",
       "            <td>VOËLVLEI</td>\n",
       "            <td>A. T. Sijovu</td>\n",
       "            <td>202256</td>\n",
       "            <td>16.6</td>\n",
       "            <td>-33.34178</td>\n",
       "            <td>19.04105</td>\n",
       "        </tr>\n",
       "        <tr>\n",
       "            <td>2013</td>\n",
       "            <td>HELY-HUTCHINSON</td>\n",
       "            <td>P. M. Naidoo</td>\n",
       "            <td>201013</td>\n",
       "            <td>15.2</td>\n",
       "            <td>-33.976929</td>\n",
       "            <td>18.409568</td>\n",
       "        </tr>\n",
       "        <tr>\n",
       "            <td>2013</td>\n",
       "            <td>WOODHEAD</td>\n",
       "            <td>A. T. Sijovu</td>\n",
       "            <td>202256</td>\n",
       "            <td>35.9</td>\n",
       "            <td>-33.977341</td>\n",
       "            <td>18.404046</td>\n",
       "        </tr>\n",
       "        <tr>\n",
       "            <td>2015</td>\n",
       "            <td>WEMMERSHOEK</td>\n",
       "            <td>P. M. Naidoo</td>\n",
       "            <td>201013</td>\n",
       "            <td>47.5</td>\n",
       "            <td>-33.826246</td>\n",
       "            <td>19.091828</td>\n",
       "        </tr>\n",
       "        <tr>\n",
       "            <td>2015</td>\n",
       "            <td>STEENBRAS LOWER;STEENBRAS UPPER</td>\n",
       "            <td>V. Mokere</td>\n",
       "            <td>201124</td>\n",
       "            <td>22.7;24.6</td>\n",
       "            <td>-34.180527;-34.166702</td>\n",
       "            <td>18.866688;18.90976</td>\n",
       "        </tr>\n",
       "        <tr>\n",
       "            <td>2015</td>\n",
       "            <td>VOËLVLEI</td>\n",
       "            <td>A. T. Sijovu</td>\n",
       "            <td>202256</td>\n",
       "            <td>11.9</td>\n",
       "            <td>-33.34178</td>\n",
       "            <td>19.04105</td>\n",
       "        </tr>\n",
       "        <tr>\n",
       "            <td>2015</td>\n",
       "            <td>HELY-HUTCHINSON</td>\n",
       "            <td>P. M. Naidoo</td>\n",
       "            <td>201013</td>\n",
       "            <td>15.3</td>\n",
       "            <td>-33.976929</td>\n",
       "            <td>18.409568</td>\n",
       "        </tr>\n",
       "        <tr>\n",
       "            <td>2015</td>\n",
       "            <td>WOODHEAD</td>\n",
       "            <td>A. T. Sijovu</td>\n",
       "            <td>202256</td>\n",
       "            <td>36.1</td>\n",
       "            <td>-33.977341</td>\n",
       "            <td>18.404046</td>\n",
       "        </tr>\n",
       "    </tbody>\n",
       "</table>"
      ],
      "text/plain": [
       "[('2012', 'WEMMERSHOEK', 'P. M. Naidoo', '201013', '48.2', '-33.826246', '19.091828'),\n",
       " ('2012', 'STEENBRAS LOWER;STEENBRAS UPPER', 'V. Mokere', '201124', '20.3;24.2', '-34.180527;-34.166702', '18.866688;18.90976'),\n",
       " ('2012', 'VOËLVLEI', 'A. T. Sijovu', '202256', '15', '-33.34178', '19.04105'),\n",
       " ('2012', 'HELY-HUTCHINSON', 'P. M. Naidoo', '201013', '14.2', '-33.976929', '18.409568'),\n",
       " ('2012', 'WOODHEAD', 'A. T. Sijovu', '202256', '35.3', '-33.977341', '18.404046'),\n",
       " ('2013', 'WEMMERSHOEK', 'P. M. Naidoo', '201013', '53.3', '-33.826246', '19.091828'),\n",
       " ('2013', 'STEENBRAS LOWER;STEENBRAS UPPER', 'V. Mokere', '201124', '22.4;24.6', '-34.180527;-34.166702', '18.866688;18.90976'),\n",
       " ('2013', 'VOËLVLEI', 'A. T. Sijovu', '202256', '16.6', '-33.34178', '19.04105'),\n",
       " ('2013', 'HELY-HUTCHINSON', 'P. M. Naidoo', '201013', '15.2', '-33.976929', '18.409568'),\n",
       " ('2013', 'WOODHEAD', 'A. T. Sijovu', '202256', '35.9', '-33.977341', '18.404046'),\n",
       " ('2015', 'WEMMERSHOEK', 'P. M. Naidoo', '201013', '47.5', '-33.826246', '19.091828'),\n",
       " ('2015', 'STEENBRAS LOWER;STEENBRAS UPPER', 'V. Mokere', '201124', '22.7;24.6', '-34.180527;-34.166702', '18.866688;18.90976'),\n",
       " ('2015', 'VOËLVLEI', 'A. T. Sijovu', '202256', '11.9', '-33.34178', '19.04105'),\n",
       " ('2015', 'HELY-HUTCHINSON', 'P. M. Naidoo', '201013', '15.3', '-33.976929', '18.409568'),\n",
       " ('2015', 'WOODHEAD', 'A. T. Sijovu', '202256', '36.1', '-33.977341', '18.404046')]"
      ]
     },
     "execution_count": 13,
     "metadata": {},
     "output_type": "execute_result"
    }
   ],
   "source": [
    "%%sql\n",
    "\n",
    "SELECT *\n",
    "FROM dam_levels"
   ]
  },
  {
   "cell_type": "markdown",
   "id": "85cb3b7d",
   "metadata": {},
   "source": [
    "Looking at the table, we notice two distinct entities: assessments and dam information.\n",
    "\n",
    "\n",
    "As such, we need to create two tables:\n",
    "\n",
    "- `assessments` – with columns: `AssessmentId`, `year`, `Assessment_Officer`, `Officer_Reg`, `water_level`\n",
    "- `dams` – with columns: `dam_name`, `dam_latitude`, `dam_longitude`"
   ]
  },
  {
   "cell_type": "markdown",
   "id": "920e89d2",
   "metadata": {
    "tags": []
   },
   "source": [
    "## Exercise\n"
   ]
  },
  {
   "cell_type": "markdown",
   "id": "86802726",
   "metadata": {},
   "source": [
    "### Exercise 1\n",
    "\n",
    "Create the `assessments` table."
   ]
  },
  {
   "cell_type": "code",
   "execution_count": null,
   "id": "91f3421f",
   "metadata": {},
   "outputs": [],
   "source": [
    "# Add your code here"
   ]
  },
  {
   "cell_type": "markdown",
   "id": "f0fade51",
   "metadata": {},
   "source": [
    "### Exercise 2\n",
    "\n",
    "Copy the relevant data into the `assessments` table from `dam_levels_1nf`."
   ]
  },
  {
   "cell_type": "code",
   "execution_count": null,
   "id": "748f4263",
   "metadata": {},
   "outputs": [],
   "source": [
    "# Add your code here"
   ]
  },
  {
   "cell_type": "markdown",
   "id": "f28aef00",
   "metadata": {},
   "source": [
    "### Exercise 3\n",
    "\n",
    "Create the `dams` table."
   ]
  },
  {
   "cell_type": "code",
   "execution_count": null,
   "id": "f4621a53",
   "metadata": {},
   "outputs": [],
   "source": [
    "# Add your code here"
   ]
  },
  {
   "cell_type": "markdown",
   "id": "d151cbb4",
   "metadata": {},
   "source": [
    "### Exercise 4\n",
    "\n",
    "Copy the relevant data into the `dams` table from `dam_levels_1nf`."
   ]
  },
  {
   "cell_type": "code",
   "execution_count": null,
   "id": "1e003247",
   "metadata": {},
   "outputs": [],
   "source": [
    "# Add your code here"
   ]
  },
  {
   "cell_type": "markdown",
   "id": "e9dcc635",
   "metadata": {},
   "source": [
    "### Exercise 5\n",
    "\n",
    "At this point, we've created two tables: the `assessments` and the `dams` tables. However, the assessments and dam information are no longer linked, i.e. we don't know which assessment belongs to which dam. As such, we'll need to create a junction table (i.e. a linking table, in this case, a table that connects an assessment to a dam).\n",
    "\n",
    "To make a valid junction table, we'll need primary keys from both tables.\n",
    "\n",
    "Using the `AssessmentId` from the `assessments` table and the `dam_name` from the `dams` table, create the junction table. Call it `dam_assessments`."
   ]
  },
  {
   "cell_type": "code",
   "execution_count": null,
   "id": "1cbd8b2e",
   "metadata": {},
   "outputs": [],
   "source": [
    "# Add your code here"
   ]
  },
  {
   "cell_type": "markdown",
   "id": "46537798",
   "metadata": {},
   "source": [
    "### Exercise 6\n",
    "\n",
    "Insert the relevant data into the `dam_assessments` table."
   ]
  },
  {
   "cell_type": "code",
   "execution_count": null,
   "id": "ce4ea795",
   "metadata": {},
   "outputs": [],
   "source": [
    "# Add your code here"
   ]
  },
  {
   "cell_type": "markdown",
   "id": "819c5f65",
   "metadata": {},
   "source": [
    "### Exercise 7\n",
    "\n",
    "Delete the now redundant `dam_levels_1nf` table."
   ]
  },
  {
   "cell_type": "code",
   "execution_count": null,
   "id": "91c1c389",
   "metadata": {},
   "outputs": [],
   "source": [
    "# Add your code here"
   ]
  },
  {
   "cell_type": "markdown",
   "id": "b3c88335",
   "metadata": {
    "tags": []
   },
   "source": [
    "## Solutions"
   ]
  },
  {
   "cell_type": "markdown",
   "id": "a5084b12",
   "metadata": {
    "tags": []
   },
   "source": [
    "### Exercise 1"
   ]
  },
  {
   "cell_type": "code",
   "execution_count": 14,
   "id": "c968d875",
   "metadata": {},
   "outputs": [
    {
     "name": "stdout",
     "output_type": "stream",
     "text": [
      " * sqlite:///dam_levels-a-3987.db\n",
      "   sqlite:///dam_levels.db\n",
      "Done.\n"
     ]
    },
    {
     "data": {
      "text/plain": [
       "[]"
      ]
     },
     "execution_count": 14,
     "metadata": {},
     "output_type": "execute_result"
    }
   ],
   "source": [
    "%%sql \n",
    "\n",
    "CREATE TABLE assessments (\n",
    "    AssessmentId INTEGER PRIMARY KEY AUTOINCREMENT,\n",
    "    year INTEGER,\n",
    "    Assessment_Officer VARCHAR(100),\n",
    "    Officer_Reg INTEGER,\n",
    "    water_level NUMERIC(10,1)\n",
    ");"
   ]
  },
  {
   "cell_type": "markdown",
   "id": "294d8eef",
   "metadata": {},
   "source": [
    "### Exercise 2\n",
    "\n"
   ]
  },
  {
   "cell_type": "code",
   "execution_count": 15,
   "id": "03071e34",
   "metadata": {},
   "outputs": [
    {
     "name": "stdout",
     "output_type": "stream",
     "text": [
      " * sqlite:///dam_levels-a-3987.db\n",
      "   sqlite:///dam_levels.db\n",
      "18 rows affected.\n"
     ]
    },
    {
     "data": {
      "text/plain": [
       "[]"
      ]
     },
     "execution_count": 15,
     "metadata": {},
     "output_type": "execute_result"
    }
   ],
   "source": [
    "%%sql\n",
    "\n",
    "INSERT INTO \n",
    "    assessments(\n",
    "            AssessmentId, \n",
    "            year, \n",
    "            Assessment_Officer,  \n",
    "            Officer_Reg, \n",
    "            water_level\n",
    "        )\n",
    "SELECT \n",
    "    AssessmentId, \n",
    "    year, \n",
    "    Assessment_Officer, \n",
    "    Officer_Reg, \n",
    "    water_level\n",
    "FROM \n",
    "    dam_levels_1nf\n",
    "ORDER BY year;"
   ]
  },
  {
   "cell_type": "markdown",
   "id": "eafe40b6",
   "metadata": {},
   "source": [
    "### Exercise 3\n",
    "\n"
   ]
  },
  {
   "cell_type": "code",
   "execution_count": 16,
   "id": "1ffd2239",
   "metadata": {},
   "outputs": [
    {
     "name": "stdout",
     "output_type": "stream",
     "text": [
      " * sqlite:///dam_levels-a-3987.db\n",
      "   sqlite:///dam_levels.db\n",
      "Done.\n"
     ]
    },
    {
     "data": {
      "text/plain": [
       "[]"
      ]
     },
     "execution_count": 16,
     "metadata": {},
     "output_type": "execute_result"
    }
   ],
   "source": [
    "%%sql\n",
    "\n",
    "CREATE TABLE dams (\n",
    "    dam_name VARCHAR(100),\n",
    "    dam_latitude NUMERIC(3,6),\n",
    "    dam_longitude NUMERIC(3,6)\n",
    ");"
   ]
  },
  {
   "cell_type": "markdown",
   "id": "b0e27793",
   "metadata": {},
   "source": [
    "### Exercise 4"
   ]
  },
  {
   "cell_type": "code",
   "execution_count": 17,
   "id": "b2cb2438",
   "metadata": {},
   "outputs": [
    {
     "name": "stdout",
     "output_type": "stream",
     "text": [
      " * sqlite:///dam_levels-a-3987.db\n",
      "   sqlite:///dam_levels.db\n",
      "6 rows affected.\n"
     ]
    },
    {
     "data": {
      "text/plain": [
       "[]"
      ]
     },
     "execution_count": 17,
     "metadata": {},
     "output_type": "execute_result"
    }
   ],
   "source": [
    "%%sql\n",
    "\n",
    "INSERT INTO \n",
    "    dams(\n",
    "            dam_name, \n",
    "            dam_latitude, \n",
    "            dam_longitude\n",
    "        )\n",
    "SELECT \n",
    "    dam_name, \n",
    "    dam_latitude, \n",
    "    dam_longitude\n",
    "FROM \n",
    "    dam_levels_1nf\n",
    "GROUP BY dam_name;"
   ]
  },
  {
   "cell_type": "markdown",
   "id": "99405b3b",
   "metadata": {},
   "source": [
    "### Exercise 5"
   ]
  },
  {
   "cell_type": "code",
   "execution_count": 18,
   "id": "c01239cc",
   "metadata": {},
   "outputs": [
    {
     "name": "stdout",
     "output_type": "stream",
     "text": [
      " * sqlite:///dam_levels-a-3987.db\n",
      "   sqlite:///dam_levels.db\n",
      "Done.\n"
     ]
    },
    {
     "data": {
      "text/plain": [
       "[]"
      ]
     },
     "execution_count": 18,
     "metadata": {},
     "output_type": "execute_result"
    }
   ],
   "source": [
    "%%sql \n",
    "\n",
    "CREATE TABLE \n",
    "    dam_assessments (\n",
    "        AssessmentId INTEGER PRIMARY KEY AUTOINCREMENT,\n",
    "        dam_name VARCHAR(100)\n",
    "    );"
   ]
  },
  {
   "cell_type": "markdown",
   "id": "69fc4b5c",
   "metadata": {},
   "source": [
    "### Exercise 6"
   ]
  },
  {
   "cell_type": "code",
   "execution_count": 19,
   "id": "36faa2ab",
   "metadata": {},
   "outputs": [
    {
     "name": "stdout",
     "output_type": "stream",
     "text": [
      " * sqlite:///dam_levels-a-3987.db\n",
      "   sqlite:///dam_levels.db\n",
      "18 rows affected.\n"
     ]
    },
    {
     "data": {
      "text/plain": [
       "[]"
      ]
     },
     "execution_count": 19,
     "metadata": {},
     "output_type": "execute_result"
    }
   ],
   "source": [
    "%%sql\n",
    "\n",
    "INSERT INTO \n",
    "    dam_assessments(\n",
    "            AssessmentId,\n",
    "            dam_name\n",
    "        )\n",
    "VALUES \n",
    "    (1 \t, \"WEMMERSHOEK\"), \n",
    "    (2 \t, \"VOËLVLEI\"),\n",
    "    (3 \t, \"HELY-HUTCHINSON\"),\n",
    "    (4 \t, \"WOODHEAD\"), \n",
    "    (5 \t, \"STEENBRAS LOWER\"), \n",
    "    (6 \t, \"STEENBRAS UPPER\"), \n",
    "    (7 \t, \"WEMMERSHOEK\"), \n",
    "    (8 \t, \"VOËLVLEI\"), \n",
    "    (9 \t, \"HELY-HUTCHINSON\"), \n",
    "    (10 , \"WOODHEAD\"), \n",
    "    (11 , \"STEENBRAS LOWER\"), \n",
    "    (12 , \"STEENBRAS UPPER\"), \n",
    "    (13 , \"WEMMERSHOEK\"), \n",
    "    (14 , \"VOËLVLEI\"), \n",
    "    (15 , \"HELY-HUTCHINSON\"),\n",
    "    (16 , \"WOODHEAD\"), \n",
    "    (17 , \"STEENBRAS LOWER\"), \n",
    "    (18 , \"STEENBRAS UPPER\");"
   ]
  },
  {
   "cell_type": "markdown",
   "id": "d4353de4",
   "metadata": {},
   "source": [
    "### Exercise 7"
   ]
  },
  {
   "cell_type": "code",
   "execution_count": null,
   "id": "3c2ca026",
   "metadata": {},
   "outputs": [],
   "source": [
    "%%sql\n",
    "\n",
    "DROP TABLE dam_levels_1nf;"
   ]
  },
  {
   "cell_type": "markdown",
   "id": "e9956efe",
   "metadata": {
    "tags": []
   },
   "source": [
    "## Summary\n",
    "\n",
    "At this point, we have split the dam_levels_1nf table into the following tables:\n",
    "\n",
    "|name|\n",
    "---\n",
    "assessments\n",
    "dam_assessments\n",
    "dams\n",
    "\n",
    "Since these tables are in 1NF and do not have any partial functional dependencies, we have successfully normalised our tables into the Second Normal Form!"
   ]
  },
  {
   "cell_type": "markdown",
   "id": "1fa2c3b4",
   "metadata": {},
   "source": [
    "**Important**: After completing this exercise, ensure that you save the `dam_levels.db` file, as it will be used as a foundation for the next exercise."
   ]
  },
  {
   "cell_type": "markdown",
   "id": "26fd094b-0fee-46f1-a4b8-73766813c42b",
   "metadata": {
    "tags": []
   },
   "source": [
    "#  \n",
    "\n",
    "<div align=\"center\" style=\" font-size: 80%; text-align: center; margin: 0 auto\">\n",
    "<img src=\"https://raw.githubusercontent.com/Explore-AI/Pictures/refs/heads/master/ALX_banners/ALX_Navy.png\"  style=\"width:100px\"  ;/>\n",
    "</div>"
   ]
  }
 ],
 "metadata": {
  "kernelspec": {
   "display_name": "Python 3 (ipykernel)",
   "language": "python",
   "name": "python3"
  },
  "language_info": {
   "codemirror_mode": {
    "name": "ipython",
    "version": 3
   },
   "file_extension": ".py",
   "mimetype": "text/x-python",
   "name": "python",
   "nbconvert_exporter": "python",
   "pygments_lexer": "ipython3",
   "version": "3.13.5"
  }
 },
 "nbformat": 4,
 "nbformat_minor": 5
}
